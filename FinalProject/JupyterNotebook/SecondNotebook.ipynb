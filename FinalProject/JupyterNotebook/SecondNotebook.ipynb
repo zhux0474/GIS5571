{
 "cells": [
  {
   "cell_type": "markdown",
   "id": "843fc4b7",
   "metadata": {},
   "source": [
    "# Final Project GEOG5543 Part 2 Machine Learning Method K Mean & DBSCAN \n",
    "\n",
    "This notebook will apply and compare the machine learning method k mean clustering algorithm and DBSCANE clustering method to find the interaction clustering pattern using the interaction data for five days(Monday to Friday) prepared in Part 1 (first notebook)\n",
    "\n",
    "The results are mapped using folium map and two dropdown boxes(widget)"
   ]
  },
  {
   "cell_type": "code",
   "execution_count": 3,
   "id": "9d2de2f8",
   "metadata": {},
   "outputs": [],
   "source": [
    "#import libraries\n",
    "import pandas as pd\n",
    "import numpy as np\n",
    "import matplotlib.pyplot as plt\n",
    "from matplotlib.axis import Axis\n",
    "from sklearn.cluster import KMeans\n",
    "from sklearn.cluster import DBSCAN\n",
    "from sklearn.metrics import silhouette_samples, silhouette_score\n",
    "import seaborn as sns; sns.set()\n",
    "import csv\n",
    "import pandas as pd, numpy as np, matplotlib.pyplot as plt\n",
    "from geopy.distance import great_circle\n",
    "from shapely.geometry import MultiPoint"
   ]
  },
  {
   "cell_type": "code",
   "execution_count": 4,
   "id": "f89fa2ad",
   "metadata": {},
   "outputs": [],
   "source": [
    "pd.options.mode.chained_assignment = None  # default='warn'"
   ]
  },
  {
   "cell_type": "markdown",
   "id": "187ef725",
   "metadata": {},
   "source": [
    "## K-Mean\n",
    "For the comparison with DBSCAN, I use the number of clusters found in DBSCAN as the k value for each of the weekday in K Mean. \n",
    "Next is to use predefined function from sklearn library to compute the k-means clustering and add the assigned clustering label to the dataset. The top 5 cluster locations are found through using value_counts function and these locations are assigned with a specific color for mapping in folium. \n"
   ]
  },
  {
   "cell_type": "code",
   "execution_count": 113,
   "id": "4a6a7648",
   "metadata": {},
   "outputs": [],
   "source": [
    "#These functions will be called inside the mapping part "
   ]
  },
  {
   "cell_type": "code",
   "execution_count": 5,
   "id": "3b6577b4",
   "metadata": {},
   "outputs": [],
   "source": [
    "def readpt_kmean(num,cluster):\n",
    "    num=str(num)\n",
    "    df = pd.read_csv('Interaction_ByDOW_'+num+'.csv',encoding=\"ISO-8859-1\")\n",
    "    kmeans = KMeans(n_clusters = cluster, init ='k-means++')\n",
    "    kmeans.fit(df[df.columns[2:4]]) # Compute k-means clustering\n",
    "    df['cluster_label'] = kmeans.fit_predict(df[df.columns[2:4]])\n",
    "    centers = kmeans.cluster_centers_ # Coordinates of cluster centers.\n",
    "    labels = kmeans.predict(df[df.columns[2:4]]) # Labels of each point\n",
    "    return df\n"
   ]
  },
  {
   "cell_type": "code",
   "execution_count": 6,
   "id": "d819ab7c",
   "metadata": {},
   "outputs": [],
   "source": [
    "#function to assign color to top 5 most popular cluster location\n",
    "def gettopten_kmean(df):\n",
    "    count = df['cluster_label'].value_counts().index.tolist()\n",
    "    countten=count[:5]\n",
    "    topten=df[df['cluster_label'].isin(countten)]\n",
    "    return topten"
   ]
  },
  {
   "cell_type": "code",
   "execution_count": 7,
   "id": "ef24f8d9",
   "metadata": {},
   "outputs": [],
   "source": [
    "#function assigncolor take the dataframe and assign color to the clustered location based on the clustering label\n",
    "def assigncolor_kmean(df):\n",
    "    count = df['cluster_label'].value_counts().index.tolist()\n",
    "    countten=count[:5]\n",
    "    def colors_kmean(ten):\n",
    "        if ten['cluster_label']==count[0]:\n",
    "            return '#49006a'\n",
    "        elif ten['cluster_label']==count[1]:\n",
    "            return '#ae017e'\n",
    "        elif ten['cluster_label']==count[2]:\n",
    "            return '#dd3497'\n",
    "        elif ten['cluster_label']==count[3]:\n",
    "            return '#f768a1'\n",
    "        elif ten['cluster_label']==count[4]:\n",
    "            return '#fcc5c0'\n",
    "    df['color'] = df.apply(colors_kmean, axis=1)\n",
    "    return df\n",
    "        "
   ]
  },
  {
   "cell_type": "code",
   "execution_count": null,
   "id": "1ee7d66b",
   "metadata": {},
   "outputs": [],
   "source": []
  },
  {
   "cell_type": "code",
   "execution_count": null,
   "id": "75035632",
   "metadata": {},
   "outputs": [],
   "source": []
  },
  {
   "cell_type": "markdown",
   "id": "6f3d4980",
   "metadata": {},
   "source": [
    "## DBSCAN\n",
    "\n",
    "First step is to define two parameters, a physical distance from each point (epsilon), and a minimum cluster size (min_samples). \n",
    "Min samples is set to 1 so that every data point gets assigned to either a cluster or forms its own cluster of 1 because I will only use and visualize the top 5 clustering location for the results. \n",
    "A Silhouette Score always ranges between -1 to 1. A high Silhouette score suggests that the objects are well matched to their own cluster and poorly matched to their neighborhood clusters. For this project, I used Silhouette distance to find the ideal epsilon value for DBSCAN through finding the minimum distance between points and plotting the minimum distance to find the density of the data points. The plots suggest that the optimal epsilon value is in the range between 0 to 10. Therefore, I first test the silhouette score using various possible epsilon value between 0.5 to 2 and try to select the best value with highest silhouette score. Based on the test, a epsilon value of 1 gives highest silhouette score.\n",
    "\n",
    "After the parameters are defined, dbscan is run with predefined functions from sklearn library.  “ball tree” algorithm and haversine metric is used to run the DBSCAN and generate cluster label for each trip records in the data. The top 5 cluster locations are found through using value_counts function and these locations are assigned with a specific color for mapping in folium. \n"
   ]
  },
  {
   "cell_type": "markdown",
   "id": "7c7a2c90",
   "metadata": {},
   "source": [
    "### Define Parameters"
   ]
  },
  {
   "cell_type": "code",
   "execution_count": 190,
   "id": "bb090220",
   "metadata": {},
   "outputs": [
    {
     "name": "stdout",
     "output_type": "stream",
     "text": [
      "Number of clusters: 510\n"
     ]
    },
    {
     "data": {
      "image/png": "[encoded data removed]",
      "text/plain": [
       "<Figure size 432x288 with 1 Axes>"
      ]
     },
     "metadata": {},
     "output_type": "display_data"
    },
    {
     "name": "stdout",
     "output_type": "stream",
     "text": [
      "Considering mindistance between 0.5 to 2\n"
     ]
    },
    {
     "data": {
      "image/png": "[encoded data removed]",
      "text/plain": [
       "<Figure size 432x288 with 1 Axes>"
      ]
     },
     "metadata": {},
     "output_type": "display_data"
    }
   ],
   "source": [
    "df = readpt_dbscan(0)\n",
    "df=df[[\"DLAT\",\"DLON\"]]\n",
    "df=df.sort_values(by=['DLAT','DLON'])\n",
    "df2=pd.DataFrame(columns=['index','distance'])\n",
    "for i in range(0,len(df)-1):\n",
    "    dist=np.linalg.norm(df.iloc[i]-df.iloc[i+1])\n",
    "    df2=df2.append({'index': str(i),'distance':dist},ignore_index=True)\n",
    "    \n",
    "df2=df2.sort_values(by=['distance'])\n",
    "plt.scatter(df2['index'],df2['distance'])\n",
    "plt.show()\n",
    "print(\"Considering mindistance between 0.5 to 2\")\n",
    "df3 = df2[df2['distance']<2]\n",
    "df3=df3.sort_values(by=['distance'])\n",
    "plt.scatter(df3['index'],df3['distance'])\n",
    "plt.show()"
   ]
  },
  {
   "cell_type": "code",
   "execution_count": 191,
   "id": "00d6d3bc",
   "metadata": {},
   "outputs": [
    {
     "name": "stdout",
     "output_type": "stream",
     "text": [
      "eps value is0.1\n",
      "{0, 1, 2, 3, 4, 5, 6, 7, 8, 9, 10, 11, 12, 13, 14, 15, 16, 17, 18, 19, 20, 21, 22, 23, 24, 25, 26, 27, 28, 29, 30, 31, 32, 33, 34, 35, 36, 37, 38, 39, 40, 41, 42, 43, 44, 45, 46, 47, 48, 49, 50, 51, 52, 53, 54, 55, 56}\n",
      "For eps value =0.1 [ 0  1  2 ... 55 55 56] The average silhouette_score is: 0.3099706403240746\n",
      "eps value is0.5\n",
      "{0, 1, 2, 3, 4, 5, 6}\n",
      "For eps value =0.5 [0 1 2 ... 5 5 6] The average silhouette_score is: 0.7513297886766397\n",
      "eps value is0.6\n",
      "{0, 1, 2, 3, 4, 5, 6}\n",
      "For eps value =0.6 [0 1 2 ... 5 5 6] The average silhouette_score is: 0.7513297886766397\n",
      "eps value is0.7\n",
      "{0, 1, 2, 3, 4, 5, 6}\n",
      "For eps value =0.7 [0 1 2 ... 5 5 6] The average silhouette_score is: 0.7513297886766397\n",
      "eps value is0.8\n",
      "{0, 1, 2, 3, 4, 5}\n",
      "For eps value =0.8 [0 1 2 ... 4 4 5] The average silhouette_score is: 0.7652606964369788\n",
      "eps value is0.9\n",
      "{0, 1, 2, 3, 4}\n",
      "For eps value =0.9 [0 1 2 ... 3 3 4] The average silhouette_score is: 0.931234363911751\n",
      "eps value is1\n",
      "{0, 1, 2, 3, 4}\n",
      "For eps value =1 [0 1 2 ... 3 3 4] The average silhouette_score is: 0.931234363911751\n",
      "eps value is1.5\n",
      "{0, 1, 2, 3, 4}\n",
      "For eps value =1.5 [0 1 2 ... 3 3 4] The average silhouette_score is: 0.931234363911751\n",
      "eps value is2\n",
      "{0, 1, 2, 3, 4}\n",
      "For eps value =2 [0 1 2 ... 3 3 4] The average silhouette_score is: 0.931234363911751\n"
     ]
    }
   ],
   "source": [
    "range_eps=[0.1,0.5,0.6,0.7,0.8,0.9,1,1.5,2]\n",
    "for i in range_eps:\n",
    "    print('eps value is' +str(i))\n",
    "    db = DBSCAN(eps=i,min_samples=1).fit(df)\n",
    "    core_sample_mask=np.zeros_like(db.labels_,dtype=bool)\n",
    "    core_sample_mask[db.core_sample_indices_] = True\n",
    "    labels=db.labels_\n",
    "    print(set(labels))\n",
    "    silhouette_avg=silhouette_score(df,labels)\n",
    "    print(\"For eps value =\" + str(i),labels,\n",
    "         \"The average silhouette_score is:\", silhouette_avg\n",
    "         \n",
    "         )"
   ]
  },
  {
   "cell_type": "code",
   "execution_count": null,
   "id": "e14e0660",
   "metadata": {},
   "outputs": [],
   "source": []
  },
  {
   "cell_type": "markdown",
   "id": "3ed61deb",
   "metadata": {},
   "source": [
    "### Function to Read the Data \n",
    "\n",
    "\n",
    "    Monday - 0\n",
    "    Tuesday - 1\n",
    "    Wednesday - 2\n",
    "    Thursday - 3\n",
    "    Firday - 4\n",
    "    \n",
    "These functions will be called inside the mapping part "
   ]
  },
  {
   "cell_type": "code",
   "execution_count": 11,
   "id": "24e2fbee",
   "metadata": {},
   "outputs": [],
   "source": [
    "#function readpt_dbscan take a number from 0 to 4 and read the corresponding data and run the DBSCAN on the data\n",
    "\n",
    "def readpt_dbscan(num):\n",
    "    num=str(num)\n",
    "    df4 = pd.read_csv('Interaction_ByDOW_'+num+'.csv',encoding=\"ISO-8859-1\")\n",
    "    coords = df4[['DLAT', 'DLON']].values\n",
    "    kms_per_radian = 6371.0088\n",
    "    epsilon = 1/ kms_per_radian\n",
    "    db = DBSCAN(eps=epsilon, min_samples=1, algorithm='ball_tree', metric='haversine').fit(np.radians(coords))\n",
    "    df4[\"Label\"] = db.labels_\n",
    "    cluster_labels= db.labels_\n",
    "    num_clusters = len(set(cluster_labels))\n",
    "    return df4\n",
    " "
   ]
  },
  {
   "cell_type": "code",
   "execution_count": 12,
   "id": "d788ae8e",
   "metadata": {},
   "outputs": [],
   "source": [
    "#replace the number inside ()to find the number of cluster found in DBSCAN\n",
    "d = readpt_dbscan(4)\n",
    "count = d['Label'].value_counts()\n",
    "#count"
   ]
  },
  {
   "cell_type": "code",
   "execution_count": 13,
   "id": "3645d692",
   "metadata": {},
   "outputs": [
    {
     "name": "stdout",
     "output_type": "stream",
     "text": [
      "Number of outliers: 184\n"
     ]
    }
   ],
   "source": [
    "#to find the number of outliers\n",
    "count=0\n",
    "for idx, name in enumerate(d['Label'].value_counts().index.tolist()):\n",
    "    if d['Label'].value_counts()[idx] ==1:\n",
    "        count +=1\n",
    "       # print('Name:',name)\n",
    "        #print('Counts:',d['Label'].value_counts()[idx])\n",
    "print(\"Number of outliers:\",count)"
   ]
  },
  {
   "cell_type": "markdown",
   "id": "8f8558d9",
   "metadata": {},
   "source": [
    "Number of clusters for K Mean(total number of cluster - total number of outliers from DBSCAN)\n",
    "\n",
    "    0 : 510 - 184 = 326\n",
    "    1 : 517 - 192 = 325\n",
    "    2 : 443 - 190 = 253\n",
    "    3 : 442 - 216 = 226\n",
    "    4 : 410 - 184 = 226\n",
    "\n",
    "Number of outliers found:\n",
    "\n",
    "    0 - 184,\n",
    "    1 - 192,\n",
    "    2 - 190,\n",
    "    3 - 216,\n",
    "    4 - 184,"
   ]
  },
  {
   "cell_type": "markdown",
   "id": "a3669e29",
   "metadata": {},
   "source": [
    "### Function to Get the Top 5 Clustering Location\n",
    "function gettopten take the dataframe(after DBSCAN) and find the top 5 most clustered location"
   ]
  },
  {
   "cell_type": "code",
   "execution_count": 14,
   "id": "455b2b52",
   "metadata": {},
   "outputs": [],
   "source": [
    "#function gettopten take the dataframe(after DBSCAN) and find the top 5 most clustered location\n",
    "def gettopten_dbscan(df):\n",
    "    count = df['Label'].value_counts().index.tolist()\n",
    "    countten=count[:5]\n",
    "    topten=df[df['Label'].isin(countten)]\n",
    "    return topten"
   ]
  },
  {
   "cell_type": "markdown",
   "id": "7b80499b",
   "metadata": {},
   "source": [
    "### Function to Assign Color to Each Location\n",
    "function assigncolor take the dataframe and assign color to the clustered location based on the clustering label"
   ]
  },
  {
   "cell_type": "code",
   "execution_count": 15,
   "id": "fd7c7278",
   "metadata": {},
   "outputs": [],
   "source": [
    "#function assigncolor take the dataframe and assign color to the clustered location based on the clustering label\n",
    "def assigncolor_dbscan(df):\n",
    "    count = df['Label'].value_counts().index.tolist()\n",
    "    countten=count[:5]\n",
    "    def colors_dbscan(ten):\n",
    "        if ten['Label']==count[0]:\n",
    "            return '#49006a'\n",
    "        elif ten['Label']==count[1]:\n",
    "            return '#ae017e'\n",
    "        elif ten['Label']==count[2]:\n",
    "            return '#dd3497'\n",
    "        elif ten['Label']==count[3]:\n",
    "            return '#f768a1'\n",
    "        elif ten['Label']==count[4]:\n",
    "            return '#fcc5c0'\n",
    "    df['color'] = df.apply(colors_dbscan, axis=1)\n",
    "    return df"
   ]
  },
  {
   "cell_type": "markdown",
   "id": "bf0350da",
   "metadata": {},
   "source": [
    "## Function to Create Folium Map \n",
    "\n",
    "\n",
    "The last step is to map the results using folium map and implement a dropdown box for user to choose which method and day to display. \n",
    "A default map is defined with set width and height, and a default location in Minneapolis area with a zoom start of 12. Folium.circle is used to map the latitude and longitude of the points with its assigned color to indicate clustering. \n",
    "\n",
    "A method event handler is built to create the method dropdown box so that user could choose which machine learning method they want to apply. Day event handler is nested inside the method event handler for user to choose which day from Monday to Friday they want to display on the map. User’s selection will trigger the map function to be called so that a point map will be displayed with the corresponding selected machine learning method and day.\n",
    "\n",
    "\n",
    "\n",
    "\n",
    "\n",
    "\n"
   ]
  },
  {
   "cell_type": "code",
   "execution_count": 16,
   "id": "34873c38",
   "metadata": {},
   "outputs": [],
   "source": [
    "import folium\n",
    "#create a map\n",
    "\n",
    "# map_pt function take the dataframe with clustering labels and assigned color and map out all the points\n",
    "def map_pt(num,method):\n",
    "    #create default map\n",
    "    this_map = folium.Map(width=700,height=400,location=[44.97400, -93.22769],tiles='cartodbpositron', zoom_start=12)\n",
    "    def plotDot(point):\n",
    "        folium.Circle(location=[point.DLAT, point.DLON],\n",
    "                            radius=2,\n",
    "                            weight=5, color=point.color).add_to(this_map)\n",
    "    #if dbscan is selected, call the functions to run dbscan and map the top 5 locations in folium map\n",
    "    if method == \"dbscan\":\n",
    "        df=readpt_dbscan(num)\n",
    "        topten= gettopten_dbscan(df)\n",
    "        topten=assigncolor_dbscan(topten)\n",
    "        topten.apply(plotDot, axis = 1)\n",
    "    \n",
    "    #if kmean is selected, call the readpt_kmean function with assined number of cluster value based on the day to run kmean\n",
    "    elif method == \"kmean\":\n",
    "        if num == 0:\n",
    "            df=readpt_kmean(num, 326)\n",
    "        elif num == 1:\n",
    "            df=readpt_kmean(num, 325)\n",
    "        elif num == 2:\n",
    "            df=readpt_kmean(num, 253)\n",
    "        elif num == 3:\n",
    "            df=readpt_kmean(num, 226)\n",
    "        elif num == 4:\n",
    "            df=readpt_kmean(num, 226)\n",
    "        # call the functions to map the top 5 locations in folium map\n",
    "        topten= gettopten_kmean(df)\n",
    "        topten=assigncolor_kmean(topten)\n",
    "        topten.apply(plotDot, axis = 1)\n",
    "\n",
    "    this_map.fit_bounds(this_map.get_bounds()) #Set the zoom to the maximum possible\n",
    "    return this_map\n",
    "\n",
    "#Save the map to an HTML file\n",
    "#this_map.save('html_map_output/simple_dot_plot.html')\n"
   ]
  },
  {
   "cell_type": "markdown",
   "id": "e0f9bc72",
   "metadata": {},
   "source": [
    "## Dropdown Box Widget Implementation"
   ]
  },
  {
   "cell_type": "code",
   "execution_count": 17,
   "id": "6a2ac175",
   "metadata": {},
   "outputs": [],
   "source": [
    "#Import the Libraries\n",
    "from IPython.display import display\n",
    "from ipywidgets import interact, interactive, fixed, interact_manual\n",
    "import ipywidgets as widgets"
   ]
  },
  {
   "cell_type": "code",
   "execution_count": 18,
   "id": "80aa17db",
   "metadata": {
    "scrolled": false
   },
   "outputs": [
    {
     "data": {
      "application/vnd.jupyter.widget-view+json": {
       "model_id": "3c6018170500480ebe7cbeea0bc19708",
       "version_major": 2,
       "version_minor": 0
      },
      "text/plain": [
       "interactive(children=(Dropdown(description='Method', options=('Please Select', 'DBSCAN', 'K-Mean'), value='Ple…"
      ]
     },
     "metadata": {},
     "output_type": "display_data"
    },
    {
     "data": {
      "text/plain": [
       "<function __main__.method_eventhandler(Method)>"
      ]
     },
     "execution_count": 18,
     "metadata": {},
     "output_type": "execute_result"
    }
   ],
   "source": [
    "#Set the default map\n",
    "m = folium.Map(width=700,height=400,location=[44.97400, -93.22769],tiles='cartodbpositron', zoom_start=12)\n",
    "\n",
    "\n",
    "#function day_eventhandler1 and day_eventhandler1 is nested inside method eventhandler \n",
    "#and it take selection(Monday to Friday) from user \n",
    "\n",
    "def method_eventhandler(Method):\n",
    "    control = Method\n",
    "    if control == 'K-Mean':\n",
    "        interact(day_eventhandler1,Weekday = widgets.Dropdown(\n",
    "        options = ['Please select','Monday', 'Tuesday','Wednesday','Thursday','Friday'],\n",
    "        disabled = False\n",
    "        ))        \n",
    "    elif control == 'DBSCAN':\n",
    "        interact(day_eventhandler2,Weekday = widgets.Dropdown(\n",
    "        options = ['Please select','Monday', 'Tuesday','Wednesday','Thursday','Friday'],\n",
    "        disabled = False\n",
    "        ))\n",
    "    else:\n",
    "        display(m) #if nothing is selected, display the default map m\n",
    "        \n",
    "        \n",
    "def day_eventhandler1(Weekday):\n",
    "    control = Weekday\n",
    "    #dispaly the map for selected day for kmean\n",
    "    if control == 'Monday':\n",
    "        display(map_pt(0,\"kmean\"))\n",
    "    \n",
    "    elif control == 'Tuesday':\n",
    "        display(map_pt(1,\"kmean\"))\n",
    "    elif control == 'Wednesday':\n",
    "        display(map_pt(2,\"kmean\"))\n",
    "    elif control == 'Thursday':\n",
    "        display(map_pt(3,\"kmean\"))\n",
    "    elif control == 'Friday':\n",
    "        display(map_pt(4,\"kmean\"))\n",
    "    else:\n",
    "        display(m)\n",
    "        \n",
    "def day_eventhandler2(Weekday):\n",
    "    control = Weekday\n",
    "    #dispaly the map for selected day for dbscan\n",
    "    if control == 'Monday':\n",
    "        display(map_pt(0,'dbscan'))\n",
    "    elif control == 'Tuesday':\n",
    "        display(map_pt(1,'dbscan'))\n",
    "    elif control == 'Wednesday':\n",
    "        display(map_pt(2,'dbscan'))\n",
    "    elif control == 'Thursday':\n",
    "        display(map_pt(3,'dbscan'))\n",
    "    elif control == 'Friday':\n",
    "        display(map_pt(4,'dbscan'))\n",
    "    else:\n",
    "        display(m)\n",
    "     \n",
    "    \n",
    "#initial the method eventhandler and the method dropdown box will show before the day dropdown box\n",
    "interact(method_eventhandler,Method = widgets.Dropdown(\n",
    "    options = ['Please Select','DBSCAN','K-Mean'],\n",
    "    disabled = False\n",
    "))\n",
    "\n",
    "\n",
    "\n"
   ]
  },
  {
   "cell_type": "code",
   "execution_count": null,
   "id": "4413c82a",
   "metadata": {},
   "outputs": [],
   "source": []
  },
  {
   "cell_type": "code",
   "execution_count": 13,
   "id": "8911ffd7",
   "metadata": {},
   "outputs": [],
   "source": [
    "#from sklearn import metrics\n",
    "\n",
    "#df4 = readpt(0)\n",
    "\n",
    "#"
   ]
  },
  {
   "cell_type": "code",
   "execution_count": 16,
   "id": "6fb59c2a",
   "metadata": {},
   "outputs": [],
   "source": [
    "#df = pd.DataFrame()\n",
    "#df['Label'] = df4['Label']"
   ]
  },
  {
   "cell_type": "code",
   "execution_count": 18,
   "id": "299f488c",
   "metadata": {},
   "outputs": [
    {
     "data": {
      "text/plain": [
       "0.9230447511501464"
      ]
     },
     "execution_count": 18,
     "metadata": {},
     "output_type": "execute_result"
    }
   ],
   "source": [
    "#metrics.silhouette_score(df, df['Label'])\n",
    "#looks like a very good score! the best is 1 and the worst is -1"
   ]
  },
  {
   "cell_type": "code",
   "execution_count": null,
   "id": "6d356906",
   "metadata": {},
   "outputs": [],
   "source": []
  }
 ],
 "metadata": {
  "kernelspec": {
   "display_name": "Python 3 (ipykernel)",
   "language": "python",
   "name": "python3"
  },
  "language_info": {
   "codemirror_mode": {
    "name": "ipython",
    "version": 3
   },
   "file_extension": ".py",
   "mimetype": "text/x-python",
   "name": "python",
   "nbconvert_exporter": "python",
   "pygments_lexer": "ipython3",
   "version": "3.9.7"
  }
 },
 "nbformat": 4,
 "nbformat_minor": 5
}
