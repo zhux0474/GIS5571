{
 "cells": [
  {
   "cell_type": "markdown",
   "metadata": {},
   "source": [
    "## Lab 2 Part 2 - Find the Optimal Path for Dory"
   ]
  },
  {
   "cell_type": "markdown",
   "metadata": {},
   "source": [
    "### Create Feature Class for Start and End points and Clip Boundary"
   ]
  },
  {
   "cell_type": "code",
   "execution_count": 1,
   "metadata": {},
   "outputs": [
    {
     "data": {
      "text/html": [
       "<h2>Output</h2>C:\\Users\\zhux0474\\Desktop\\Lab2costsurface\\lab2.p2\\lab2.gdb\\Boundary<h2>Messages</h2>Start Time: Tuesday, October 26, 2021 9:46:23 PM<br/>Succeeded at Tuesday, October 26, 2021 9:46:23 PM (Elapsed Time: 0.83 seconds)<br/><style>.rendered_html td, .rendered_html th {text-align: left;}.rendered_html tbody {border: 1px solid black;}</style>"
      ],
      "text/plain": [
       "<Result 'C:\\\\Users\\\\zhux0474\\\\Desktop\\\\Lab2costsurface\\\\lab2.p2\\\\lab2.gdb\\\\Boundary'>"
      ]
     },
     "execution_count": 1,
     "metadata": {},
     "output_type": "execute_result"
    }
   ],
   "source": [
    "# Create Boundary Polygon Feature Class\n",
    "arcpy.management.CreateFeatureclass(r\"C:\\Users\\zhux0474\\Desktop\\Lab2costsurface\\lab2.p2\\lab2.gdb\", \"Boundary\", \"POLYGON\", None, \"DISABLED\", \"DISABLED\", None, '', 0, 0, 0, '')"
   ]
  },
  {
   "cell_type": "code",
   "execution_count": 9,
   "metadata": {},
   "outputs": [
    {
     "data": {
      "text/html": [
       "<h2>Output</h2>C:\\Users\\zhux0474\\Desktop\\Lab2costsurface\\lab2.p2\\lab2.gdb\\StartPoint<h2>Messages</h2>Start Time: Tuesday, October 26, 2021 10:05:39 PM<br/>Succeeded at Tuesday, October 26, 2021 10:05:40 PM (Elapsed Time: 0.63 seconds)<br/><style>.rendered_html td, .rendered_html th {text-align: left;}.rendered_html tbody {border: 1px solid black;}</style>"
      ],
      "text/plain": [
       "<Result 'C:\\\\Users\\\\zhux0474\\\\Desktop\\\\Lab2costsurface\\\\lab2.p2\\\\lab2.gdb\\\\StartPoint'>"
      ]
     },
     "execution_count": 9,
     "metadata": {},
     "output_type": "execute_result"
    }
   ],
   "source": [
    "# Create Start Point Feature Class\n",
    "arcpy.management.CreateFeatureclass(r\"C:\\Users\\zhux0474\\Desktop\\Lab2costsurface\\lab2.p2\\lab2.gdb\", \"StartPoint\", \"POINT\", None, \"DISABLED\", \"DISABLED\", None, '', 0, 0, 0, '')"
   ]
  },
  {
   "cell_type": "code",
   "execution_count": 10,
   "metadata": {},
   "outputs": [
    {
     "data": {
      "text/html": [
       "<h2>Output</h2>C:\\Users\\zhux0474\\Desktop\\Lab2costsurface\\lab2.p2\\lab2.gdb\\EndPoint<h2>Messages</h2>Start Time: Tuesday, October 26, 2021 10:05:52 PM<br/>Succeeded at Tuesday, October 26, 2021 10:05:52 PM (Elapsed Time: 0.41 seconds)<br/><style>.rendered_html td, .rendered_html th {text-align: left;}.rendered_html tbody {border: 1px solid black;}</style>"
      ],
      "text/plain": [
       "<Result 'C:\\\\Users\\\\zhux0474\\\\Desktop\\\\Lab2costsurface\\\\lab2.p2\\\\lab2.gdb\\\\EndPoint'>"
      ]
     },
     "execution_count": 10,
     "metadata": {},
     "output_type": "execute_result"
    }
   ],
   "source": [
    "# Create End Point Feature Class\n",
    "arcpy.management.CreateFeatureclass(r\"C:\\Users\\zhux0474\\Desktop\\Lab2costsurface\\lab2.p2\\lab2.gdb\", \"EndPoint\", \"POINT\", None, \"DISABLED\", \"DISABLED\", None, '', 0, 0, 0, '')"
   ]
  },
  {
   "cell_type": "markdown",
   "metadata": {},
   "source": [
    "### Clip the DEM, Tin"
   ]
  },
  {
   "cell_type": "code",
   "execution_count": 2,
   "metadata": {},
   "outputs": [
    {
     "data": {
      "text/html": [
       "<h2>Output</h2>C:\\Users\\zhux0474\\Desktop\\Lab2costsurface\\lab2.p2\\lab2.gdb\\demclip<h2>Messages</h2>Start Time: Tuesday, October 26, 2021 9:48:16 PM<br/>Building Pyramids...<br/>Succeeded at Tuesday, October 26, 2021 9:48:17 PM (Elapsed Time: 1.33 seconds)<br/><style>.rendered_html td, .rendered_html th {text-align: left;}.rendered_html tbody {border: 1px solid black;}</style>"
      ],
      "text/plain": [
       "<Result 'C:\\\\Users\\\\zhux0474\\\\Desktop\\\\Lab2costsurface\\\\lab2.p2\\\\lab2.gdb\\\\demclip'>"
      ]
     },
     "execution_count": 2,
     "metadata": {},
     "output_type": "execute_result"
    }
   ],
   "source": [
    "#Clip the DEM\n",
    "arcpy.management.Clip(\"digital_elevation_model_30m\", \"566198.073486328 4877070.97589111 578345.554321289 4888534.0914917\", r\"C:\\Users\\zhux0474\\Desktop\\Lab2costsurface\\lab2.p2\\lab2.gdb\\demclip\", \"Boundary\", \"32767\", \"NONE\", \"NO_MAINTAIN_EXTENT\")"
   ]
  },
  {
   "cell_type": "code",
   "execution_count": 3,
   "metadata": {},
   "outputs": [
    {
     "data": {
      "text/html": [
       "<h2>Output</h2>C:\\Users\\zhux0474\\Desktop\\Lab2costsurface\\lab2.p2\\lab2.gdb\\Lancoverclip<h2>Messages</h2>Start Time: Tuesday, October 26, 2021 9:48:48 PM<br/>Building Pyramids...<br/>Succeeded at Tuesday, October 26, 2021 9:48:49 PM (Elapsed Time: 1.29 seconds)<br/><style>.rendered_html td, .rendered_html th {text-align: left;}.rendered_html tbody {border: 1px solid black;}</style>"
      ],
      "text/plain": [
       "<Result 'C:\\\\Users\\\\zhux0474\\\\Desktop\\\\Lab2costsurface\\\\lab2.p2\\\\lab2.gdb\\\\Lancoverclip'>"
      ]
     },
     "execution_count": 3,
     "metadata": {},
     "output_type": "execute_result"
    }
   ],
   "source": [
    "# Clip the Tin\n",
    "arcpy.management.Clip(\"NLCD_2016_Land_Cover.tif\", \"566198.073486328 4877070.97589111 578345.554321289 4888534.0914917\", r\"C:\\Users\\zhux0474\\Desktop\\Lab2costsurface\\lab2.p2\\lab2.gdb\\Lancoverclip\", \"Boundary\", \"32767\", \"NONE\", \"NO_MAINTAIN_EXTENT\")"
   ]
  },
  {
   "cell_type": "markdown",
   "metadata": {},
   "source": [
    "### Reclassify Land Cover"
   ]
  },
  {
   "cell_type": "code",
   "execution_count": 4,
   "metadata": {},
   "outputs": [],
   "source": [
    "out_raster = arcpy.sa.Reclassify(\"Lancoverclip\", \"Value\", \"11 3;21 1;22 1;23 1;24 1;31 1;41 2;42 2;43 2;52 2;71 2;81 2;82 4;90 5;95 5\", \"DATA\"); out_raster.save(r\"C:\\Users\\zhux0474\\Desktop\\Lab2costsurface\\lab2.p2\\lab2.gdb\\Reclass_Landcover\")"
   ]
  },
  {
   "cell_type": "markdown",
   "metadata": {},
   "source": [
    "### Create Slope from DEM"
   ]
  },
  {
   "cell_type": "code",
   "execution_count": 5,
   "metadata": {},
   "outputs": [],
   "source": [
    "out_raster = arcpy.sa.Slope(\"demclip\", \"DEGREE\", 1, \"PLANAR\", \"METER\"); out_raster.save(r\"C:\\Users\\zhux0474\\Desktop\\Lab2costsurface\\lab2.p2\\lab2.gdb\\Slope_dem\")"
   ]
  },
  {
   "cell_type": "markdown",
   "metadata": {},
   "source": [
    "### Rescale the Slope"
   ]
  },
  {
   "cell_type": "code",
   "execution_count": 6,
   "metadata": {},
   "outputs": [],
   "source": [
    "# From 1 - 5 \n",
    "out_raster = arcpy.sa.RescaleByFunction(\"Slope_dem\", \"MSSMALL 1 1 # # # #\", 1, 5); out_raster.save(r\"C:\\Users\\zhux0474\\Desktop\\Lab2costsurface\\lab2.p2\\lab2.gdb\\Rescale_Slop1\")"
   ]
  },
  {
   "cell_type": "markdown",
   "metadata": {},
   "source": [
    "### Run the Distance Accumulation Tool"
   ]
  },
  {
   "cell_type": "code",
   "execution_count": 7,
   "metadata": {},
   "outputs": [],
   "source": [
    "out_distance_accumulation_raster = arcpy.sa.DistanceAccumulation(\"Startpt\", None, \"Reclass_Landcover\", \"Rescale_Slop1\", None, \"BINARY 1 -30 30\", None, \"BINARY 1 45\", r\"C:\\Users\\zhux0474\\Desktop\\Lab2costsurface\\lab2.p2\\lab2.gdb\\BackDir\", None, None, None, None, None, '', \"PLANAR\"); out_distance_accumulation_raster.save(r\"C:\\Users\\zhux0474\\Desktop\\Lab2costsurface\\lab2.p2\\lab2.gdb\\Distanc_Acc\")"
   ]
  },
  {
   "cell_type": "markdown",
   "metadata": {},
   "source": [
    "### Run the Optimal Path as Line Tool"
   ]
  },
  {
   "cell_type": "code",
   "execution_count": 8,
   "metadata": {},
   "outputs": [
    {
     "data": {
      "text/plain": [
       "<geoprocessing server result object object at 0x00000144E848C2D8>"
      ]
     },
     "execution_count": 8,
     "metadata": {},
     "output_type": "execute_result"
    }
   ],
   "source": [
    "arcpy.sa.OptimalPathAsLine(\"Endpt\", \"Distanc_Acc\", \"BackDir\", r\"C:\\Users\\zhux0474\\Desktop\\Lab2costsurface\\lab2.p2\\lab2.gdb\\Optimal_Path1\", \"OBJECTID\", \"EACH_ZONE\")"
   ]
  },
  {
   "cell_type": "code",
   "execution_count": null,
   "metadata": {},
   "outputs": [],
   "source": []
  }
 ],
 "metadata": {
  "kernelspec": {
   "display_name": "ArcGISPro",
   "language": "Python",
   "name": "python3"
  },
  "language_info": {
   "file_extension": ".py",
   "name": "python",
   "version": "3"
  }
 },
 "nbformat": 4,
 "nbformat_minor": 2
}
