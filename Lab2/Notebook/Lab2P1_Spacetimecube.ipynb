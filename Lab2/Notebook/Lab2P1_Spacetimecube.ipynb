{
 "cells": [
  {
   "cell_type": "markdown",
   "metadata": {},
   "source": [
    "### Lab 2 .bil file"
   ]
  },
  {
   "cell_type": "code",
   "execution_count": 3,
   "metadata": {},
   "outputs": [],
   "source": [
    "import requests\n",
    "import json\n",
    "import pprint\n",
    "import zipfile \n",
    "import urllib\n",
    "#import arcpy\n",
    "import pandas as pd\n",
    "from urllib.parse import urlencode\n",
    "from urllib.parse import urlparse, parse_qsl"
   ]
  },
  {
   "cell_type": "code",
   "execution_count": 28,
   "metadata": {},
   "outputs": [],
   "source": [
    "import ftplib"
   ]
  },
  {
   "cell_type": "markdown",
   "metadata": {},
   "source": [
    "## Download Data"
   ]
  },
  {
   "cell_type": "code",
   "execution_count": 39,
   "metadata": {},
   "outputs": [
    {
     "data": {
      "text/plain": [
       "'230 Anonymous access granted, restrictions apply'"
      ]
     },
     "execution_count": 39,
     "metadata": {},
     "output_type": "execute_result"
    }
   ],
   "source": [
    "# Use FTP to connect to \"prism.nacse.org\" and login use email address with anonymous password\n",
    "ftp = ftplib.FTP(\"prism.nacse.org\")\n",
    "ftp.login(\"anonymous\",\"zhux0474@umn.edu\")\n"
   ]
  },
  {
   "cell_type": "code",
   "execution_count": 79,
   "metadata": {},
   "outputs": [],
   "source": [
    "# change directories and navigate the file tree to get the files \n",
    "ftp.cwd(\"/normals_4km/ppt\")\n",
    "fnbase=\"PRISM_ppt_30yr_normal_4kmM2_annual\"\n",
    "fnend = \"_bil.zip\""
   ]
  },
  {
   "cell_type": "code",
   "execution_count": 80,
   "metadata": {},
   "outputs": [
    {
     "data": {
      "text/plain": [
       "'221 Goodbye.'"
      ]
     },
     "execution_count": 80,
     "metadata": {},
     "output_type": "execute_result"
    }
   ],
   "source": [
    "fn = fnbase + fnend\n",
    "with open(fn, \"wb\") as file:\n",
    "    #ftp.retrbinary(f\"RETR {fn}\", file.write) \n",
    "    ftp.retrbinary(\"RETR \"+fn, file.write) \n",
    "ftp.quit()"
   ]
  },
  {
   "cell_type": "code",
   "execution_count": 82,
   "metadata": {},
   "outputs": [],
   "source": [
    "with zipfile.ZipFile('PRISM_ppt_30yr_normal_4kmM2_annual_bil.zip','r') as zip_ref:\n",
    "    zip_ref.extractall('Data')"
   ]
  },
  {
   "cell_type": "markdown",
   "metadata": {},
   "source": [
    "## Create Space Time Cube"
   ]
  },
  {
   "cell_type": "markdown",
   "metadata": {},
   "source": [
    "### Convert bil to tiff"
   ]
  },
  {
   "cell_type": "code",
   "execution_count": 5,
   "metadata": {},
   "outputs": [
    {
     "data": {
      "text/html": [
       "<h2>Output</h2><h2>Messages</h2>Start Time: Tuesday, October 26, 2021 1:56:49 PM<br/>Successfully converted: C:\\Users\\zhux0474\\Desktop\\Lab2.2\\Lab2.2\\PRISM_ppt_30yr_normal_4kmM2_all_bil\\PRISM_ppt_30yr_normal_4kmM2_01_bil.bil To C:\\Users\\zhux0474\\Desktop\\Lab2.2\\Lab2.2\\Tifff\\PRISM_ppt_30yr_normal_4kmM2_01_bil.tif<br/>Successfully converted: C:\\Users\\zhux0474\\Desktop\\Lab2.2\\Lab2.2\\PRISM_ppt_30yr_normal_4kmM2_all_bil\\PRISM_ppt_30yr_normal_4kmM2_02_bil.bil To C:\\Users\\zhux0474\\Desktop\\Lab2.2\\Lab2.2\\Tifff\\PRISM_ppt_30yr_normal_4kmM2_02_bil.tif<br/>Successfully converted: C:\\Users\\zhux0474\\Desktop\\Lab2.2\\Lab2.2\\PRISM_ppt_30yr_normal_4kmM2_all_bil\\PRISM_ppt_30yr_normal_4kmM2_03_bil.bil To C:\\Users\\zhux0474\\Desktop\\Lab2.2\\Lab2.2\\Tifff\\PRISM_ppt_30yr_normal_4kmM2_03_bil.tif<br/>Successfully converted: C:\\Users\\zhux0474\\Desktop\\Lab2.2\\Lab2.2\\PRISM_ppt_30yr_normal_4kmM2_all_bil\\PRISM_ppt_30yr_normal_4kmM2_04_bil.bil To C:\\Users\\zhux0474\\Desktop\\Lab2.2\\Lab2.2\\Tifff\\PRISM_ppt_30yr_normal_4kmM2_04_bil.tif<br/>Successfully converted: C:\\Users\\zhux0474\\Desktop\\Lab2.2\\Lab2.2\\PRISM_ppt_30yr_normal_4kmM2_all_bil\\PRISM_ppt_30yr_normal_4kmM2_05_bil.bil To C:\\Users\\zhux0474\\Desktop\\Lab2.2\\Lab2.2\\Tifff\\PRISM_ppt_30yr_normal_4kmM2_05_bil.tif<br/>Successfully converted: C:\\Users\\zhux0474\\Desktop\\Lab2.2\\Lab2.2\\PRISM_ppt_30yr_normal_4kmM2_all_bil\\PRISM_ppt_30yr_normal_4kmM2_06_bil.bil To C:\\Users\\zhux0474\\Desktop\\Lab2.2\\Lab2.2\\Tifff\\PRISM_ppt_30yr_normal_4kmM2_06_bil.tif<br/>Successfully converted: C:\\Users\\zhux0474\\Desktop\\Lab2.2\\Lab2.2\\PRISM_ppt_30yr_normal_4kmM2_all_bil\\PRISM_ppt_30yr_normal_4kmM2_07_bil.bil To C:\\Users\\zhux0474\\Desktop\\Lab2.2\\Lab2.2\\Tifff\\PRISM_ppt_30yr_normal_4kmM2_07_bil.tif<br/>Successfully converted: C:\\Users\\zhux0474\\Desktop\\Lab2.2\\Lab2.2\\PRISM_ppt_30yr_normal_4kmM2_all_bil\\PRISM_ppt_30yr_normal_4kmM2_08_bil.bil To C:\\Users\\zhux0474\\Desktop\\Lab2.2\\Lab2.2\\Tifff\\PRISM_ppt_30yr_normal_4kmM2_08_bil.tif<br/>Successfully converted: C:\\Users\\zhux0474\\Desktop\\Lab2.2\\Lab2.2\\PRISM_ppt_30yr_normal_4kmM2_all_bil\\PRISM_ppt_30yr_normal_4kmM2_09_bil.bil To C:\\Users\\zhux0474\\Desktop\\Lab2.2\\Lab2.2\\Tifff\\PRISM_ppt_30yr_normal_4kmM2_09_bil.tif<br/>Successfully converted: C:\\Users\\zhux0474\\Desktop\\Lab2.2\\Lab2.2\\PRISM_ppt_30yr_normal_4kmM2_all_bil\\PRISM_ppt_30yr_normal_4kmM2_10_bil.bil To C:\\Users\\zhux0474\\Desktop\\Lab2.2\\Lab2.2\\Tifff\\PRISM_ppt_30yr_normal_4kmM2_10_bil.tif<br/>Successfully converted: C:\\Users\\zhux0474\\Desktop\\Lab2.2\\Lab2.2\\PRISM_ppt_30yr_normal_4kmM2_all_bil\\PRISM_ppt_30yr_normal_4kmM2_11_bil.bil To C:\\Users\\zhux0474\\Desktop\\Lab2.2\\Lab2.2\\Tifff\\PRISM_ppt_30yr_normal_4kmM2_11_bil.tif<br/>Successfully converted: C:\\Users\\zhux0474\\Desktop\\Lab2.2\\Lab2.2\\PRISM_ppt_30yr_normal_4kmM2_all_bil\\PRISM_ppt_30yr_normal_4kmM2_12_bil.bil To C:\\Users\\zhux0474\\Desktop\\Lab2.2\\Lab2.2\\Tifff\\PRISM_ppt_30yr_normal_4kmM2_12_bil.tif<br/>Succeeded at Tuesday, October 26, 2021 1:56:56 PM (Elapsed Time: 6.55 seconds)<br/><style>.rendered_html td, .rendered_html th {text-align: left;}.rendered_html tbody {border: 1px solid black;}</style>"
      ],
      "text/plain": [
       "<Result ''>"
      ]
     },
     "execution_count": 5,
     "metadata": {},
     "output_type": "execute_result"
    }
   ],
   "source": [
    "arcpy.conversion.RasterToOtherFormat(r\"C:\\Users\\zhux0474\\Desktop\\Lab2.2\\Lab2.2\\PRISM_ppt_30yr_normal_4kmM2_all_bil\\PRISM_ppt_30yr_normal_4kmM2_01_bil.bil;C:\\Users\\zhux0474\\Desktop\\Lab2.2\\Lab2.2\\PRISM_ppt_30yr_normal_4kmM2_all_bil\\PRISM_ppt_30yr_normal_4kmM2_02_bil.bil;C:\\Users\\zhux0474\\Desktop\\Lab2.2\\Lab2.2\\PRISM_ppt_30yr_normal_4kmM2_all_bil\\PRISM_ppt_30yr_normal_4kmM2_03_bil.bil;C:\\Users\\zhux0474\\Desktop\\Lab2.2\\Lab2.2\\PRISM_ppt_30yr_normal_4kmM2_all_bil\\PRISM_ppt_30yr_normal_4kmM2_04_bil.bil;C:\\Users\\zhux0474\\Desktop\\Lab2.2\\Lab2.2\\PRISM_ppt_30yr_normal_4kmM2_all_bil\\PRISM_ppt_30yr_normal_4kmM2_05_bil.bil;C:\\Users\\zhux0474\\Desktop\\Lab2.2\\Lab2.2\\PRISM_ppt_30yr_normal_4kmM2_all_bil\\PRISM_ppt_30yr_normal_4kmM2_06_bil.bil;C:\\Users\\zhux0474\\Desktop\\Lab2.2\\Lab2.2\\PRISM_ppt_30yr_normal_4kmM2_all_bil\\PRISM_ppt_30yr_normal_4kmM2_07_bil.bil;C:\\Users\\zhux0474\\Desktop\\Lab2.2\\Lab2.2\\PRISM_ppt_30yr_normal_4kmM2_all_bil\\PRISM_ppt_30yr_normal_4kmM2_08_bil.bil;C:\\Users\\zhux0474\\Desktop\\Lab2.2\\Lab2.2\\PRISM_ppt_30yr_normal_4kmM2_all_bil\\PRISM_ppt_30yr_normal_4kmM2_09_bil.bil;C:\\Users\\zhux0474\\Desktop\\Lab2.2\\Lab2.2\\PRISM_ppt_30yr_normal_4kmM2_all_bil\\PRISM_ppt_30yr_normal_4kmM2_10_bil.bil;C:\\Users\\zhux0474\\Desktop\\Lab2.2\\Lab2.2\\PRISM_ppt_30yr_normal_4kmM2_all_bil\\PRISM_ppt_30yr_normal_4kmM2_11_bil.bil;C:\\Users\\zhux0474\\Desktop\\Lab2.2\\Lab2.2\\PRISM_ppt_30yr_normal_4kmM2_all_bil\\PRISM_ppt_30yr_normal_4kmM2_12_bil.bil\", r\"C:\\Users\\zhux0474\\Desktop\\Lab2.2\\Lab2.2\\Tifff\", \"TIFF\")"
   ]
  },
  {
   "cell_type": "markdown",
   "metadata": {},
   "source": [
    "### Create Mosaic Dataset"
   ]
  },
  {
   "cell_type": "code",
   "execution_count": 6,
   "metadata": {
    "scrolled": true
   },
   "outputs": [
    {
     "data": {
      "text/html": [
       "<h2>Output</h2>C:\\Users\\zhux0474\\Desktop\\Lab2.2\\Lab2.2\\MyProject\\MyProject.gdb\\APPT<h2>Messages</h2>Start Time: Tuesday, October 26, 2021 1:57:23 PM<br/>Succeeded at Tuesday, October 26, 2021 1:57:29 PM (Elapsed Time: 6.28 seconds)<br/><style>.rendered_html td, .rendered_html th {text-align: left;}.rendered_html tbody {border: 1px solid black;}</style>"
      ],
      "text/plain": [
       "<Result 'C:\\\\Users\\\\zhux0474\\\\Desktop\\\\Lab2.2\\\\Lab2.2\\\\MyProject\\\\MyProject.gdb\\\\APPT'>"
      ]
     },
     "execution_count": 6,
     "metadata": {},
     "output_type": "execute_result"
    }
   ],
   "source": [
    "arcpy.management.CreateMosaicDataset(r\"C:\\Users\\zhux0474\\Desktop\\Lab2.2\\Lab2.2\\MyProject\\MyProject.gdb\", \"ppt\", \"PROJCS['WGS_1984_Web_Mercator_Auxiliary_Sphere',GEOGCS['GCS_WGS_1984',DATUM['D_WGS_1984',SPHEROID['WGS_1984',6378137.0,298.257223563]],PRIMEM['Greenwich',0.0],UNIT['Degree',0.0174532925199433]],PROJECTION['Mercator_Auxiliary_Sphere'],PARAMETER['False_Easting',0.0],PARAMETER['False_Northing',0.0],PARAMETER['Central_Meridian',0.0],PARAMETER['Standard_Parallel_1',0.0],PARAMETER['Auxiliary_Sphere_Type',0.0],UNIT['Meter',1.0]]\", None, '', \"NONE\", None)"
   ]
  },
  {
   "cell_type": "markdown",
   "metadata": {},
   "source": [
    "### Add Tiff to Mosaic Dataset"
   ]
  },
  {
   "cell_type": "code",
   "execution_count": 7,
   "metadata": {},
   "outputs": [
    {
     "data": {
      "text/html": [
       "<h2>Output</h2>a Layer object<h2>Messages</h2>Start Time: Tuesday, October 26, 2021 1:58:06 PM<br/>2021-10-26T13:58:07.043: Loading raster datasets<br/>2021-10-26T13:58:07.079: Completed crawling 12 data source items. Added 12 mosaic dataset items.<br/>2021-10-26T13:58:07.081: Synchronizing crawled data source items<br/>2021-10-26T13:58:07.092: Synchronizing items associated with raster type instance 'Raster Dataset' [ID: 1].<br/>2021-10-26T13:58:07.333: Completed synchronization: 12 items selected, 12 items synchronized.<br/>2021-10-26T13:58:07.420: Computing cell size levels<br/>2021-10-26T13:58:07.420: Computing unique cell size values<br/>2021-10-26T13:58:07.591: Computing maximum cell size values<br/>2021-10-26T13:58:07.596: Computing minimum cell size values<br/>2021-10-26T13:58:07.600: Updating visibility values of selected items<br/>2021-10-26T13:58:07.629: Computing maximum cell size for mosaic dataset<br/>2021-10-26T13:58:07.641: Completed computing cell size ranges.<br/>2021-10-26T13:58:07.935: Completed building boundary.<br/>Succeeded at Tuesday, October 26, 2021 1:58:08 PM (Elapsed Time: 1.65 seconds)<br/><style>.rendered_html td, .rendered_html th {text-align: left;}.rendered_html tbody {border: 1px solid black;}</style>"
      ],
      "text/plain": [
       "<Result 'APPT'>"
      ]
     },
     "execution_count": 7,
     "metadata": {},
     "output_type": "execute_result"
    }
   ],
   "source": [
    "arcpy.management.AddRastersToMosaicDataset(\"ppt\", \"Raster Dataset\", r\"C:\\Users\\zhux0474\\Desktop\\Lab2.2\\Lab2.2\\Tifff\", \"UPDATE_CELL_SIZES\", \"UPDATE_BOUNDARY\", \"NO_OVERVIEWS\", None, 0, 1500, None, '', \"SUBFOLDERS\", \"ALLOW_DUPLICATES\", \"NO_PYRAMIDS\", \"NO_STATISTICS\", \"NO_THUMBNAILS\", '', \"NO_FORCE_SPATIAL_REFERENCE\", \"NO_STATISTICS\", None, \"NO_PIXEL_CACHE\", r\"C:\\Users\\zhux0474\\AppData\\Local\\ESRI\\rasterproxies\\APPT\")"
   ]
  },
  {
   "cell_type": "markdown",
   "metadata": {},
   "source": [
    "### Add Timestamp Field"
   ]
  },
  {
   "cell_type": "code",
   "execution_count": 8,
   "metadata": {},
   "outputs": [
    {
     "data": {
      "text/html": [
       "<h2>Output</h2>a Layer object<h2>Messages</h2>Start Time: Tuesday, October 26, 2021 1:58:25 PM<br/>Adding Timestamp to AMD_APPT_CAT...<br/>Succeeded at Tuesday, October 26, 2021 1:58:25 PM (Elapsed Time: 0.53 seconds)<br/><style>.rendered_html td, .rendered_html th {text-align: left;}.rendered_html tbody {border: 1px solid black;}</style>"
      ],
      "text/plain": [
       "<Result 'APPT\\\\Footprint'>"
      ]
     },
     "execution_count": 8,
     "metadata": {},
     "output_type": "execute_result"
    }
   ],
   "source": [
    "arcpy.management.CalculateField(r\"ppt\\Footprint\", \"Timestamp\", \"DateAdd(Date(2020,0,1),$feature.OBJECTID-1,'month')\", \"ARCADE\", '', \"TEXT\")"
   ]
  },
  {
   "cell_type": "code",
   "execution_count": 10,
   "metadata": {},
   "outputs": [
    {
     "data": {
      "text/html": [
       "<h2>Output</h2>a Layer object<h2>Messages</h2>Start Time: Tuesday, October 26, 2021 2:00:21 PM<br/>Adding Variable to AMD_APPT_CAT...<br/>Succeeded at Tuesday, October 26, 2021 2:00:22 PM (Elapsed Time: 0.49 seconds)<br/><style>.rendered_html td, .rendered_html th {text-align: left;}.rendered_html tbody {border: 1px solid black;}</style>"
      ],
      "text/plain": [
       "<Result 'APPT\\\\Footprint'>"
      ]
     },
     "execution_count": 10,
     "metadata": {},
     "output_type": "execute_result"
    }
   ],
   "source": [
    "arcpy.management.CalculateField(r\"ppt\\Footprint\", \"Variable\", '\"ppt\"', \"PYTHON3\", '', \"TEXT\")"
   ]
  },
  {
   "cell_type": "markdown",
   "metadata": {},
   "source": [
    "### Build Multidimensional Info"
   ]
  },
  {
   "cell_type": "code",
   "execution_count": 14,
   "metadata": {},
   "outputs": [
    {
     "data": {
      "text/html": [
       "<h2>Output</h2>a Layer object<h2>Messages</h2>Start Time: Tuesday, October 26, 2021 2:11:07 PM<br/>Succeeded at Tuesday, October 26, 2021 2:11:09 PM (Elapsed Time: 1.33 seconds)<br/><style>.rendered_html td, .rendered_html th {text-align: left;}.rendered_html tbody {border: 1px solid black;}</style>"
      ],
      "text/plain": [
       "<Result 'APPT'>"
      ]
     },
     "execution_count": 14,
     "metadata": {},
     "output_type": "execute_result"
    }
   ],
   "source": [
    "arcpy.md.BuildMultidimensionalInfo(\"ppt\", \"Variable\", \"Timestamp # #\", \"ppt # #\")"
   ]
  },
  {
   "cell_type": "markdown",
   "metadata": {},
   "source": [
    "### Make Multidimensional Raster "
   ]
  },
  {
   "cell_type": "code",
   "execution_count": 17,
   "metadata": {},
   "outputs": [
    {
     "data": {
      "text/html": [
       "<h2>Output</h2>a Layer object<h2>Messages</h2>Start Time: Tuesday, October 26, 2021 2:14:25 PM<br/>Succeeded at Tuesday, October 26, 2021 2:14:34 PM (Elapsed Time: 8.37 seconds)<br/><style>.rendered_html td, .rendered_html th {text-align: left;}.rendered_html tbody {border: 1px solid black;}</style>"
      ],
      "text/plain": [
       "<Result 'ppt_Mlayer'>"
      ]
     },
     "execution_count": 17,
     "metadata": {},
     "output_type": "execute_result"
    }
   ],
   "source": [
    "arcpy.md.MakeMultidimensionalRasterLayer(\"ppt\", \"ppt_Mlayer\", \"ppt\", \"ALL\", None, None, '', '', '', None, '', \"-125.020833333 24.0625000000001 -66.479166667 49.9375000000001\", \"DIMENSIONS\")"
   ]
  },
  {
   "cell_type": "markdown",
   "metadata": {},
   "source": [
    "### Create Space Time Cube from Multidimensional Raster Layer"
   ]
  },
  {
   "cell_type": "code",
   "execution_count": 4,
   "metadata": {},
   "outputs": [
    {
     "data": {
      "text/html": [
       "<h2>Output</h2>C:\\Users\\zhux0474\\Desktop\\Lab2.2\\Lab2.2\\MyProject\\cube3.nc<h2>Messages</h2>Start Time: Tuesday, October 26, 2021 5:24:44 PM<br/>WARNING 110290: This tool requires projected data to accurately measure distances.  The Input Multidimensional Raster Layer will be projected to the WGS 1984 World Equidistant Cylindrical projection (WKID 4087).<br/>WARNING 110013: The default Time Step Interval is 1 month.<br/>WARNING 110067: Your spatial reference is not compatible with CF Conventions.  You may experience difficulties using the resulting space-time cube with other NetCDF tools and software.<br/><br/>---------- Space Time Cube Characteristics -----------<br/>Input feature time extent          2020-01-01 05:00:00<br/>                                to 2020-12-01 05:00:00<br/>                                                      <br/>Number of time steps                                12<br/>Time step interval                             1 month<br/>Time step alignment                                End<br/>                                                      <br/>First time step temporal bias                  100.00%<br/>First time step interval                         after<br/>                                   2019-12-01 05:00:00<br/>                                       to on or before<br/>                                   2020-01-01 05:00:00<br/>                                                      <br/>Last time step temporal bias                     0.00%<br/>Last time step interval                          after<br/>                                   2020-11-01 05:00:00<br/>                                       to on or before<br/>                                   2020-12-01 05:00:00<br/>                                                      <br/>Cube extent across space       (coordinates in meters)<br/>Min X                                   -13894065.6611<br/>Min Y                                     2708362.4449<br/>Max X                                    -7451448.3422<br/>Max Y                                     5478284.6852<br/><br/>Locations                  481631<br/>Total observations        5779572<br/><br/>-------- Overall Data Trend - PPT_NONE_ZEROS ---------<br/>Trend direction                        Not Significant<br/>Trend statistic                                -0.0686<br/>Trend p-value                                   0.9453<br/><br/>Succeeded at Tuesday, October 26, 2021 5:37:38 PM (Elapsed Time: 12 minutes 54 seconds)<br/><style>.rendered_html td, .rendered_html th {text-align: left;}.rendered_html tbody {border: 1px solid black;}</style>"
      ],
      "text/plain": [
       "<Result 'C:\\\\Users\\\\zhux0474\\\\Desktop\\\\Lab2.2\\\\Lab2.2\\\\MyProject\\\\cube3.nc'>"
      ]
     },
     "execution_count": 4,
     "metadata": {},
     "output_type": "execute_result"
    }
   ],
   "source": [
    "arcpy.stpm.CreateSpaceTimeCubeMDRasterLayer(\"ppt_Mlayer\", r\"C:\\Users\\zhux0474\\Desktop\\Lab2.2\\Lab2.2\\MyProject\\cube3.nc\", \"ZEROS\")"
   ]
  },
  {
   "cell_type": "code",
   "execution_count": null,
   "metadata": {},
   "outputs": [],
   "source": []
  }
 ],
 "metadata": {
  "kernelspec": {
   "display_name": "Python 3",
   "language": "python",
   "name": "python3"
  },
  "language_info": {
   "codemirror_mode": {
    "name": "ipython",
    "version": 3
   },
   "file_extension": ".py",
   "mimetype": "text/x-python",
   "name": "python",
   "nbconvert_exporter": "python",
   "pygments_lexer": "ipython3",
   "version": "3.8.6"
  }
 },
 "nbformat": 4,
 "nbformat_minor": 4
}
