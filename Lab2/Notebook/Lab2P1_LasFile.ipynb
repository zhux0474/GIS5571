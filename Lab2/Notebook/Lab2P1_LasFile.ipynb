{
 "cells": [
  {
   "cell_type": "markdown",
   "metadata": {},
   "source": [
    "### Lab 2 Las File"
   ]
  },
  {
   "cell_type": "code",
   "execution_count": 3,
   "metadata": {},
   "outputs": [],
   "source": [
    "import requests\n",
    "import json\n",
    "import pprint\n",
    "import zipfile \n",
    "import urllib\n",
    "import arcpy\n",
    "import pandas as pd"
   ]
  },
  {
   "cell_type": "markdown",
   "metadata": {},
   "source": [
    "### Download Data"
   ]
  },
  {
   "cell_type": "code",
   "execution_count": 2,
   "metadata": {},
   "outputs": [],
   "source": [
    "#construct endpoint\n",
    "endpoint = \" https://resources.gisdata.mn.gov/pub/data/elevation/lidar/examples/lidar_sample/las/4342-12-05.las\"\n",
    "\n",
    "# apply get request\n",
    "r = requests.get(endpoint)\n",
    "\n"
   ]
  },
  {
   "cell_type": "code",
   "execution_count": 4,
   "metadata": {},
   "outputs": [],
   "source": [
    "# open and write the data file\n",
    "open('4342-12-05.las','wb').write(r.content)"
   ]
  },
  {
   "cell_type": "markdown",
   "metadata": {},
   "source": [
    "### Convert to DEM and TIN"
   ]
  },
  {
   "cell_type": "code",
   "execution_count": 1,
   "metadata": {},
   "outputs": [
    {
     "data": {
      "text/html": [
       "<h2>Output</h2>c:\\Users\\zhux0474\\Desktop\\Lab2\\Lab2.gdb\\lastoDEM<h2>Messages</h2>Start Time: Tuesday, October 26, 2021 8:00:51 PM<br/>Succeeded at Tuesday, October 26, 2021 8:00:54 PM (Elapsed Time: 3.57 seconds)<br/><style>.rendered_html td, .rendered_html th {text-align: left;}.rendered_html tbody {border: 1px solid black;}</style>"
      ],
      "text/plain": [
       "<Result 'c:\\\\Users\\\\zhux0474\\\\Desktop\\\\Lab2\\\\Lab2.gdb\\\\lastoDEM'>"
      ]
     },
     "execution_count": 1,
     "metadata": {},
     "output_type": "execute_result"
    }
   ],
   "source": [
    "# Convert Las file to DEM\n",
    "\n",
    "arcpy.conversion.LasDatasetToRaster(r\"C:\\Users\\zhux0474\\Desktop\\Lab2\\4342-12-05.las\", r\"c:\\Users\\zhux0474\\Desktop\\Lab2\\Lab2.gdb\\lastoDEM\", \"ELEVATION\", \"BINNING AVERAGE LINEAR\", \"FLOAT\", \"CELLSIZE\", 10, 1)"
   ]
  },
  {
   "cell_type": "code",
   "execution_count": 8,
   "metadata": {},
   "outputs": [],
   "source": [
    "# Convert Las file to TIN \n",
    "arcpy.ddd.LasDatasetToTin(r\"C:\\Users\\zhux0474\\Desktop\\Lab2\\4342-12-05.las\", r\"C:\\Users\\zhux0474\\Desktop\\Lab2\\LasDatasetToTin\", \"RANDOM\", \"PERCENT\", 75, 500000000, 1, \"CLIP\")\n",
    "#arcpy.ddd.LasDatasetToTin(\"4342-12-05.las\", r\"C:\\Users\\zhux0474\\Desktop\\LAB2\\Lab2\\LasToTin3\", \"RANDOM\", \"PERCENT\", 75, 5000000000, 1, \"CLIP\")\n"
   ]
  },
  {
   "cell_type": "markdown",
   "metadata": {},
   "source": [
    "### Export to PDF"
   ]
  },
  {
   "cell_type": "code",
   "execution_count": 2,
   "metadata": {},
   "outputs": [
    {
     "name": "stdout",
     "output_type": "stream",
     "text": [
      "C:\\Users\\zhux0474\\Desktop\\LAB2\\Lab2\\Lab2.aprx\n"
     ]
    }
   ],
   "source": [
    "#use arcpy.mp to export the layouts to PDF\n",
    "\n",
    "#use aprx to reference an existing project\n",
    "aprx = arcpy.mp.ArcGISProject(\"CURRENT\")\n",
    "\n",
    "# provide path to an existing geodatabase\n",
    "aprx.defaultGeodatabase = r\"C:\\Users\\zhux0474\\Desktop\\LAB2\\Lab2\\Lab2.gdb\"\n",
    "\n",
    "#save the project\n",
    "aprx.save()\n",
    "\n",
    "# verify the location where the porject was saved\n",
    "print(aprx.filePath)"
   ]
  },
  {
   "cell_type": "code",
   "execution_count": 10,
   "metadata": {},
   "outputs": [
    {
     "data": {
      "text/plain": [
       "'C:\\\\Users\\\\zhux0474\\\\Desktop\\\\LAB2\\\\DEM2.pdf'"
      ]
     },
     "execution_count": 10,
     "metadata": {},
     "output_type": "execute_result"
    }
   ],
   "source": [
    "# Export a layout of DEM to PDF\n",
    "#lyt variabel references the first layout in the project named Layout.\n",
    "lyt = aprx.listLayouts('Layout')[0]\n",
    "\n",
    "#export the pdf \n",
    "lyt.exportToPDF(r\"C:\\Users\\zhux0474\\Desktop\\LAB2\\DEM2.pdf\")"
   ]
  },
  {
   "cell_type": "code",
   "execution_count": 3,
   "metadata": {},
   "outputs": [
    {
     "data": {
      "text/plain": [
       "'C:\\\\Users\\\\zhux0474\\\\Desktop\\\\LAB2\\\\TIN2.pdf'"
      ]
     },
     "execution_count": 3,
     "metadata": {},
     "output_type": "execute_result"
    }
   ],
   "source": [
    "# Export a layout of TIN to PDF\n",
    "\n",
    "lyt = aprx.listLayouts('Layout1')[0]\n",
    "lyt.exportToPDF(r\"C:\\Users\\zhux0474\\Desktop\\LAB2\\TIN2.pdf\")"
   ]
  },
  {
   "cell_type": "code",
   "execution_count": null,
   "metadata": {},
   "outputs": [],
   "source": []
  }
 ],
 "metadata": {
  "kernelspec": {
   "display_name": "Python 3",
   "language": "python",
   "name": "python3"
  },
  "language_info": {
   "codemirror_mode": {
    "name": "ipython",
    "version": 3
   },
   "file_extension": ".py",
   "mimetype": "text/x-python",
   "name": "python",
   "nbconvert_exporter": "python",
   "pygments_lexer": "ipython3",
   "version": "3.8.6"
  }
 },
 "nbformat": 4,
 "nbformat_minor": 4
}
